{
 "cells": [
  {
   "cell_type": "markdown",
   "metadata": {},
   "source": [
    "#### Data Analysis Project 2: Census Data"
   ]
  },
  {
   "cell_type": "code",
   "execution_count": 13,
   "metadata": {},
   "outputs": [
    {
     "name": "stdout",
     "output_type": "stream",
     "text": [
      "<class 'pandas.core.frame.DataFrame'>\n",
      "RangeIndex: 32561 entries, 0 to 32560\n",
      "Data columns (total 15 columns):\n",
      " #   Column          Non-Null Count  Dtype \n",
      "---  ------          --------------  ----- \n",
      " 0   age             32561 non-null  int64 \n",
      " 1   workclass       32561 non-null  object\n",
      " 2   fnlwgt          32561 non-null  int64 \n",
      " 3   education       32561 non-null  object\n",
      " 4   education-num   32561 non-null  int64 \n",
      " 5   marital-status  32561 non-null  object\n",
      " 6   occupation      32561 non-null  object\n",
      " 7   relationship    32561 non-null  object\n",
      " 8   race            32561 non-null  object\n",
      " 9   sex             32561 non-null  object\n",
      " 10  capital-gain    32561 non-null  int64 \n",
      " 11  capital-loss    32561 non-null  int64 \n",
      " 12  hours-per-week  32561 non-null  int64 \n",
      " 13  native-country  32561 non-null  object\n",
      " 14  salary          32561 non-null  object\n",
      "dtypes: int64(6), object(9)\n",
      "memory usage: 3.7+ MB\n"
     ]
    }
   ],
   "source": [
    "import pandas as pd \n",
    "import numpy as np \n",
    " # Read data from file\n",
    "df = pd.read_csv(\"adult.data.csv\")\n",
    "df.head()\n",
    "df.info()"
   ]
  },
  {
   "cell_type": "code",
   "execution_count": 14,
   "metadata": {},
   "outputs": [],
   "source": [
    "\n",
    "\n",
    "# How many of each race are represented in this dataset? This should be a Pandas series with race names as the index labels.\n",
    "race_count = df['race'].value_counts()\n",
    "\n",
    "\n"
   ]
  },
  {
   "cell_type": "code",
   "execution_count": 15,
   "metadata": {},
   "outputs": [
    {
     "name": "stdout",
     "output_type": "stream",
     "text": [
      "sex\n",
      "Male      21790\n",
      "Female    10771\n",
      "Name: count, dtype: int64\n",
      "39.43354749885268\n"
     ]
    }
   ],
   "source": [
    "# What is the average age of men?\n",
    "print(df['sex'].value_counts())\n",
    "average_age_men = df.loc[df['sex']==\"Male\", 'age'].mean()\n",
    "print(average_age_men)"
   ]
  },
  {
   "cell_type": "code",
   "execution_count": 16,
   "metadata": {},
   "outputs": [
    {
     "name": "stdout",
     "output_type": "stream",
     "text": [
      "education\n",
      "HS-grad         10501\n",
      "Some-college     7291\n",
      "Bachelors        5355\n",
      "Masters          1723\n",
      "Assoc-voc        1382\n",
      "11th             1175\n",
      "Assoc-acdm       1067\n",
      "10th              933\n",
      "7th-8th           646\n",
      "Prof-school       576\n",
      "9th               514\n",
      "12th              433\n",
      "Doctorate         413\n",
      "5th-6th           333\n",
      "1st-4th           168\n",
      "Preschool          51\n",
      "Name: count, dtype: int64\n",
      "              mean  min  max  std\n",
      "education                        \n",
      "10th           6.0    6    6  0.0\n",
      "11th           7.0    7    7  0.0\n",
      "12th           8.0    8    8  0.0\n",
      "1st-4th        2.0    2    2  0.0\n",
      "5th-6th        3.0    3    3  0.0\n",
      "7th-8th        4.0    4    4  0.0\n",
      "9th            5.0    5    5  0.0\n",
      "Assoc-acdm    12.0   12   12  0.0\n",
      "Assoc-voc     11.0   11   11  0.0\n",
      "Bachelors     13.0   13   13  0.0\n",
      "Doctorate     16.0   16   16  0.0\n",
      "HS-grad        9.0    9    9  0.0\n",
      "Masters       14.0   14   14  0.0\n",
      "Preschool      1.0    1    1  0.0\n",
      "Prof-school   15.0   15   15  0.0\n",
      "Some-college  10.0   10   10  0.0\n",
      "16.44605509658794 16.44605509658794\n"
     ]
    }
   ],
   "source": [
    "\n",
    "print(df['education'].value_counts())\n",
    "print(df.groupby('education')['education-num'].agg(['mean', 'min', 'max', 'std'])) # no variation in education-num for each education level\n",
    "# What is the percentage of people who have a Bachelor's degree?\n",
    "\n",
    "#these would be the same\n",
    "percentage_bachelors1 = df[df['education']==\"Bachelors\"].shape[0] / df.shape[0] * 100\n",
    "percentage_bachelors2 = df[df['education-num']==13].shape[0] / df.shape[0] * 100\n",
    "print(percentage_bachelors1, percentage_bachelors2)"
   ]
  },
  {
   "cell_type": "code",
   "execution_count": 17,
   "metadata": {},
   "outputs": [
    {
     "name": "stdout",
     "output_type": "stream",
     "text": [
      "46.535843011613935 17.3713601914639\n"
     ]
    }
   ],
   "source": [
    "\n",
    "# What percentage of people with advanced education (`Bachelors`, `Masters`, or `Doctorate`) make more than 50K?\n",
    "# What percentage of people without advanced education make more than 50K?\n",
    "\n",
    "#what do the values look like \n",
    "df['salary'].value_counts()\n",
    "\n",
    "# with and without `Bachelors`, `Masters`, or `Doctorate`\n",
    "higher_education = df[df['education'].isin(['Bachelors', 'Masters', 'Doctorate'])]\n",
    "lower_education = df[~df['education'].isin(['Bachelors', 'Masters', 'Doctorate'])]\n",
    "\n",
    "# percentage with salary >50K\n",
    "higher_education_rich = higher_education[higher_education['salary']=='>50K'].shape[0] / higher_education.shape[0] * 100\n",
    "lower_education_rich = lower_education[lower_education['salary']=='>50K'].shape[0] / lower_education.shape[0] * 100\n",
    "\n",
    "print(higher_education_rich, lower_education_rich)"
   ]
  },
  {
   "cell_type": "code",
   "execution_count": 18,
   "metadata": {},
   "outputs": [
    {
     "name": "stdout",
     "output_type": "stream",
     "text": [
      "1\n"
     ]
    }
   ],
   "source": [
    "# What is the minimum number of hours a person works per week (hours-per-week feature)?\n",
    "min_work_hours = df['hours-per-week'].min()\n",
    "print(min_work_hours)"
   ]
  },
  {
   "cell_type": "code",
   "execution_count": 19,
   "metadata": {},
   "outputs": [
    {
     "name": "stdout",
     "output_type": "stream",
     "text": [
      "10.0\n"
     ]
    }
   ],
   "source": [
    "\n",
    "# What percentage of the people who work the minimum number of hours per week have a salary of >50K?\n",
    "num_min_workers = df[(df['hours-per-week'] == min_work_hours) & (df['salary'] == '>50K')].shape[0]\n",
    "num_min_workers_total = df[df['hours-per-week'] == min_work_hours].shape[0]\n",
    "\n",
    "rich_percentage = num_min_workers / num_min_workers_total * 100\n",
    "print(rich_percentage)"
   ]
  },
  {
   "cell_type": "code",
   "execution_count": 20,
   "metadata": {},
   "outputs": [
    {
     "name": "stdout",
     "output_type": "stream",
     "text": [
      "Iran 41.86046511627907\n"
     ]
    }
   ],
   "source": [
    "# What country has the highest percentage of people that earn >50K?\n",
    "df['native-country'].value_counts()\n",
    "\n",
    "\n",
    "highest_earning_country = ((df[df['salary']=='>50K']['native-country'].value_counts() / df['native-country'].value_counts()) * 100).idxmax()\n",
    "highest_earning_country_percentage = ((df[df['salary']=='>50K']['native-country'].value_counts() / df['native-country'].value_counts()) * 100).max()\n",
    "\n",
    "print(highest_earning_country, highest_earning_country_percentage)\n"
   ]
  },
  {
   "cell_type": "code",
   "execution_count": 21,
   "metadata": {},
   "outputs": [],
   "source": [
    "# Identify the most popular occupation for those who earn >50K in India.\n",
    "\n",
    "top_IN_occupation = df[(df['native-country']=='India') & (df['salary']=='>50K')]['occupation'].value_counts().index[0]"
   ]
  },
  {
   "cell_type": "code",
   "execution_count": 24,
   "metadata": {},
   "outputs": [
    {
     "name": "stdout",
     "output_type": "stream",
     "text": [
      "Number of each race:\n",
      " race\n",
      "White                 27816\n",
      "Black                  3124\n",
      "Asian-Pac-Islander     1039\n",
      "Amer-Indian-Eskimo      311\n",
      "Other                   271\n",
      "Name: count, dtype: int64\n",
      "Average age of men: 39.43354749885268\n",
      "Percentage with Bachelors degrees: 16.44605509658794%\n",
      "Percentage with higher education that earn >50K: 46.535843011613935%\n",
      "Percentage without higher education that earn >50K: 17.3713601914639%\n",
      "Min work time: 1 hours/week\n",
      "Percentage of rich among those who work fewest hours: 10.0%\n",
      "Country with highest percentage of rich: Iran\n",
      "Highest percentage of rich people in country: 41.86046511627907%\n",
      "Top occupations in India: Prof-specialty\n"
     ]
    }
   ],
   "source": [
    "\n",
    "# DO NOT MODIFY BELOW THIS LINE\n",
    "\n",
    "print(\"Number of each race:\\n\", race_count) \n",
    "print(\"Average age of men:\", average_age_men)\n",
    "print(f\"Percentage with Bachelors degrees: {percentage_bachelors1}%\")\n",
    "print(f\"Percentage with higher education that earn >50K: {higher_education_rich}%\")\n",
    "print(f\"Percentage without higher education that earn >50K: {lower_education_rich}%\")\n",
    "print(f\"Min work time: {min_work_hours} hours/week\")\n",
    "print(f\"Percentage of rich among those who work fewest hours: {rich_percentage}%\")\n",
    "print(\"Country with highest percentage of rich:\", highest_earning_country)\n",
    "print(f\"Highest percentage of rich people in country: {highest_earning_country_percentage}%\")\n",
    "print(\"Top occupations in India:\", top_IN_occupation)\n",
    "\n"
   ]
  }
 ],
 "metadata": {
  "kernelspec": {
   "display_name": "base",
   "language": "python",
   "name": "python3"
  },
  "language_info": {
   "codemirror_mode": {
    "name": "ipython",
    "version": 3
   },
   "file_extension": ".py",
   "mimetype": "text/x-python",
   "name": "python",
   "nbconvert_exporter": "python",
   "pygments_lexer": "ipython3",
   "version": "3.11.5"
  }
 },
 "nbformat": 4,
 "nbformat_minor": 2
}
